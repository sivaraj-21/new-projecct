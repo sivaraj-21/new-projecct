{
 "cells": [
  {
   "cell_type": "code",
   "execution_count": 1,
   "metadata": {},
   "outputs": [],
   "source": [
    "import mysql.connector"
   ]
  },
  {
   "cell_type": "code",
   "execution_count": 2,
   "metadata": {},
   "outputs": [
    {
     "name": "stdout",
     "output_type": "stream",
     "text": [
      "<mysql.connector.connection_cext.CMySQLConnection object at 0x000001D565742A08>\n"
     ]
    }
   ],
   "source": [
    "mydb=mysql.connector.connect(host='localhost',user='root',password='root')\n",
    "print(mydb)"
   ]
  },
  {
   "cell_type": "code",
   "execution_count": 3,
   "metadata": {},
   "outputs": [
    {
     "name": "stdout",
     "output_type": "stream",
     "text": [
      "CMySQLCursorBuffered: SHOW DATABASES\n",
      "('bank',)\n",
      "('games',)\n",
      "('hr',)\n",
      "('information_schema',)\n",
      "('mysql',)\n",
      "('performance_schema',)\n",
      "('sakila',)\n",
      "('sys',)\n",
      "('world',)\n"
     ]
    }
   ],
   "source": [
    "mycursor=mydb.cursor(buffered=True)\n",
    "mycursor.execute('SHOW DATABASES')\n",
    "\n",
    "print(mycursor)\n",
    "\n",
    "for x in mycursor:\n",
    "    print(x)"
   ]
  },
  {
   "cell_type": "code",
   "execution_count": 4,
   "metadata": {},
   "outputs": [],
   "source": [
    "# mycursor.execute('CREATE DATABASE bank')"
   ]
  },
  {
   "cell_type": "markdown",
   "metadata": {},
   "source": [
    "## CREATING TABLE customer_info"
   ]
  },
  {
   "cell_type": "code",
   "execution_count": 18,
   "metadata": {
    "scrolled": true
   },
   "outputs": [],
   "source": [
    "mydb = mysql.connector.connect(\n",
    "  host=\"localhost\",\n",
    "  user=\"root\",\n",
    "  password=\"root\",\n",
    "  database=\"bank\"\n",
    ")\n",
    "\n",
    "mycursor = mydb.cursor(buffered=True)\n",
    "\n",
    "#mycursor.execute(\"CREATE TABLE customer_info (id INT AUTO_INCREMENT PRIMARY KEY,name VARCHAR(255) NOT NULL,email VARCHAR(255,password VARCHAR(255)))\")\n"
   ]
  },
  {
   "cell_type": "code",
   "execution_count": 19,
   "metadata": {
    "scrolled": true
   },
   "outputs": [
    {
     "name": "stdout",
     "output_type": "stream",
     "text": [
      "('id', 'int', 'NO', 'PRI', None, 'auto_increment')\n",
      "('name', 'varchar(255)', 'YES', '', None, '')\n",
      "('email', 'varchar(255)', 'YES', '', None, '')\n",
      "('password', 'varchar(255)', 'NO', '', None, '')\n"
     ]
    }
   ],
   "source": [
    "mycursor.execute('DESCRIBE customer_info')\n",
    "for x in mycursor:\n",
    "    print(x)"
   ]
  },
  {
   "cell_type": "code",
   "execution_count": 28,
   "metadata": {},
   "outputs": [],
   "source": [
    "sql = \"INSERT INTO customer_info (name, email,password) VALUES (%s, %s,%s)\"\n",
    "val = [\n",
    "    ('abc', 'abc@newbank.com','12345'),\n",
    "    ('def', 'def@newbank.com','00000'),\n",
    "    ('ijk', 'ijk@newbank.com','11111'), \n",
    "]\n",
    "\n",
    "mycursor.executemany(sql, val) \n",
    "\n",
    "mydb.commit()"
   ]
  },
  {
   "cell_type": "code",
   "execution_count": 29,
   "metadata": {
    "scrolled": true
   },
   "outputs": [
    {
     "name": "stdout",
     "output_type": "stream",
     "text": [
      "(7, 'abc', 'abc@newbank.com', '12345')\n",
      "(8, 'def', 'def@newbank.com', '00000')\n",
      "(9, 'ijk', 'ijk@newbank.com', '11111')\n",
      "(10, 'abc', 'abc@newbank.com', '12345')\n",
      "(11, 'def', 'def@newbank.com', '00000')\n",
      "(12, 'ijk', 'ijk@newbank.com', '11111')\n"
     ]
    }
   ],
   "source": [
    "mycursor.execute('SELECT * from customer_info')\n",
    "\n",
    "myresult = mycursor.fetchall()\n",
    "for x in myresult:\n",
    "    print(x)"
   ]
  },
  {
   "cell_type": "code",
   "execution_count": 37,
   "metadata": {},
   "outputs": [],
   "source": [
    "a='ddc'"
   ]
  },
  {
   "cell_type": "code",
   "execution_count": 38,
   "metadata": {
    "scrolled": true
   },
   "outputs": [
    {
     "ename": "TypeError",
     "evalue": "'NoneType' object is not iterable",
     "output_type": "error",
     "traceback": [
      "\u001b[1;31m---------------------------------------------------------------------------\u001b[0m",
      "\u001b[1;31mTypeError\u001b[0m                                 Traceback (most recent call last)",
      "\u001b[1;32m<ipython-input-38-5f6368ecfc19>\u001b[0m in \u001b[0;36m<module>\u001b[1;34m\u001b[0m\n\u001b[0;32m      6\u001b[0m \u001b[0mmyresult\u001b[0m \u001b[1;33m=\u001b[0m \u001b[0mmycursor\u001b[0m\u001b[1;33m.\u001b[0m\u001b[0mfetchone\u001b[0m\u001b[1;33m(\u001b[0m\u001b[1;33m)\u001b[0m\u001b[1;33m\u001b[0m\u001b[1;33m\u001b[0m\u001b[0m\n\u001b[0;32m      7\u001b[0m \u001b[1;33m\u001b[0m\u001b[0m\n\u001b[1;32m----> 8\u001b[1;33m \u001b[1;32mfor\u001b[0m \u001b[0mx\u001b[0m \u001b[1;32min\u001b[0m \u001b[0mmyresult\u001b[0m\u001b[1;33m:\u001b[0m\u001b[1;33m\u001b[0m\u001b[1;33m\u001b[0m\u001b[0m\n\u001b[0m\u001b[0;32m      9\u001b[0m     \u001b[0mprint\u001b[0m\u001b[1;33m(\u001b[0m\u001b[0mx\u001b[0m\u001b[1;33m)\u001b[0m\u001b[1;33m\u001b[0m\u001b[1;33m\u001b[0m\u001b[0m\n",
      "\u001b[1;31mTypeError\u001b[0m: 'NoneType' object is not iterable"
     ]
    }
   ],
   "source": [
    "sql = \"SELECT name FROM customer_info WHERE name = %s\"\n",
    "adr = (a, )\n",
    "\n",
    "mycursor.execute(sql, adr)\n",
    "\n",
    "myresult = mycursor.fetchone()\n",
    "\n",
    "for x in myresult:\n",
    "    print(x)"
   ]
  },
  {
   "cell_type": "code",
   "execution_count": 36,
   "metadata": {},
   "outputs": [
    {
     "data": {
      "text/plain": [
       "str"
      ]
     },
     "execution_count": 36,
     "metadata": {},
     "output_type": "execute_result"
    }
   ],
   "source": [
    "type(myresult[0])"
   ]
  },
  {
   "cell_type": "code",
   "execution_count": null,
   "metadata": {},
   "outputs": [],
   "source": [
    "sql = \"SELECT * FROM customer_info WHERE name = %s\""
   ]
  },
  {
   "cell_type": "code",
   "execution_count": null,
   "metadata": {},
   "outputs": [],
   "source": [
    "from tkinter import *\n",
    "from functools import partial\n",
    "\n",
    "def validateLogin(username, password):\n",
    "    print(\"username entered :\", username.get())\n",
    "    print(\"password entered :\", password.get())\n",
    "    try:\n",
    "        mycursor.execute(\"SELECT name FROM customer_info WHERE name = %s\",(str(username.get()),))\n",
    "        user = mycursor.fetchone()[0]\n",
    "        print('SQL',user)\n",
    "        mycursor.execute('SELECT password from customer_info where name=%s',(str(username.get()),))\n",
    "        password1=mycursor.fetchone()[0]\n",
    "        print('Pass',password)\n",
    "        if username.get()==user:\n",
    "            if password.get()==password1:\n",
    "                print('Hi',username.get())\n",
    "                Label(tkWindow,text=f'Hi {username.get()}').grid(row=5,column=5)\n",
    "            else:\n",
    "                print('Invalid password')\n",
    "                Label(tkWindow,text='Invalid Password').grid(row=1,column=2)\n",
    "    except TypeError:\n",
    "        print('User does not exists')\n",
    "        Label(tkWindow,text='User does not exists').grid(row=0,column=2)\n",
    "        \n",
    "        \n",
    "    \n",
    "\n",
    "#window\n",
    "tkWindow = Tk()  \n",
    "tkWindow.geometry('250x150')  \n",
    "tkWindow.title('Bank Login')\n",
    "\n",
    "#username label and text entry box\n",
    "usernameLabel = Label(tkWindow, text=\"User Name\").grid(row=0, column=0)\n",
    "username = StringVar()\n",
    "usernameEntry = Entry(tkWindow, textvariable=username).grid(row=0, column=1)  \n",
    "\n",
    "#password label and password entry box\n",
    "passwordLabel = Label(tkWindow,text=\"Password\").grid(row=1, column=0)  \n",
    "password = StringVar()\n",
    "passwordEntry = Entry(tkWindow, textvariable=password, show='*').grid(row=1, column=1)  \n",
    "\n",
    "validateLogin = partial(validateLogin, username, password)\n",
    "\n",
    "#login button\n",
    "loginButton = Button(tkWindow, text=\"Login\", command=validateLogin).grid(row=4, column=0)  \n",
    "\n",
    "#label=Label(finalwindow,text='Hi user').grid(row=4,column=4)\n",
    "\n",
    "tkWindow.mainloop()"
   ]
  },
  {
   "cell_type": "code",
   "execution_count": null,
   "metadata": {},
   "outputs": [],
   "source": []
  }
 ],
 "metadata": {
  "kernelspec": {
   "display_name": "Python 3",
   "language": "python",
   "name": "python3"
  },
  "language_info": {
   "codemirror_mode": {
    "name": "ipython",
    "version": 3
   },
   "file_extension": ".py",
   "mimetype": "text/x-python",
   "name": "python",
   "nbconvert_exporter": "python",
   "pygments_lexer": "ipython3",
   "version": "3.7.3"
  }
 },
 "nbformat": 4,
 "nbformat_minor": 4
}
